{
 "cells": [
  {
   "cell_type": "markdown",
   "id": "0175ae17",
   "metadata": {},
   "source": [
    "## Task-4: Applying Custom NumPy Universal Functions\n",
    "### Description: Create a custom numpy ufunc (universal function) and apply it to a numpy array.\n"
   ]
  },
  {
   "cell_type": "code",
   "execution_count": 1,
   "id": "16ce39af",
   "metadata": {},
   "outputs": [
    {
     "name": "stdout",
     "output_type": "stream",
     "text": [
      "Original Array: [1 2 3 4 5]\n",
      "Result after applying custom ufunc: [6 9 14 21 30]\n"
     ]
    }
   ],
   "source": [
    "import numpy as np\n",
    "\n",
    "# Step 1: Define a custom function\n",
    "def custom_func(x):\n",
    "    return x**2 + 5\n",
    "\n",
    "# Step 2: Convert the Python function into a NumPy ufunc\n",
    "custom_ufunc = np.frompyfunc(custom_func, 1, 1)\n",
    "\n",
    "# Step 3: Apply the ufunc to a NumPy array\n",
    "arr = np.array([1, 2, 3, 4, 5])\n",
    "\n",
    "# Applying the custom ufunc\n",
    "result = custom_ufunc(arr)\n",
    "\n",
    "print(\"Original Array:\", arr)\n",
    "print(\"Result after applying custom ufunc:\", result)\n"
   ]
  }
 ],
 "metadata": {
  "kernelspec": {
   "display_name": "Python 3 (ipykernel)",
   "language": "python",
   "name": "python3"
  },
  "language_info": {
   "codemirror_mode": {
    "name": "ipython",
    "version": 3
   },
   "file_extension": ".py",
   "mimetype": "text/x-python",
   "name": "python",
   "nbconvert_exporter": "python",
   "pygments_lexer": "ipython3",
   "version": "3.12.2"
  }
 },
 "nbformat": 4,
 "nbformat_minor": 5
}
